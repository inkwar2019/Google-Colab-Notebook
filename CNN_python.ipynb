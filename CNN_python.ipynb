{
  "cells": [
    {
      "cell_type": "markdown",
      "metadata": {
        "id": "view-in-github",
        "colab_type": "text"
      },
      "source": [
        "<a href=\"https://colab.research.google.com/github/inkwar2019/Google-Colab-Notebook/blob/main/CNN_python.ipynb\" target=\"_parent\"><img src=\"https://colab.research.google.com/assets/colab-badge.svg\" alt=\"Open In Colab\"/></a>"
      ]
    },
    {
      "cell_type": "markdown",
      "metadata": {
        "id": "8Tj26ILVKBqa"
      },
      "source": [
        "# Dataset"
      ]
    },
    {
      "cell_type": "code",
      "execution_count": 1,
      "metadata": {
        "id": "fXYVqVMgYmND",
        "colab": {
          "base_uri": "https://localhost:8080/"
        },
        "outputId": "0edc55a7-c2c0-48a6-ae0f-5c15d7c92ce3"
      },
      "outputs": [
        {
          "output_type": "stream",
          "name": "stdout",
          "text": [
            "Downloading data from https://storage.googleapis.com/tensorflow/tf-keras-datasets/mnist.npz\n",
            "11493376/11490434 [==============================] - 0s 0us/step\n",
            "11501568/11490434 [==============================] - 0s 0us/step\n"
          ]
        }
      ],
      "source": [
        "from keras.datasets import mnist\n",
        "(a, b), (c, d) = mnist.load_data()\n",
        "(x_train, y_train), (x_test, y_test) = (list((a/255.0).reshape((-1,28,28,1))), list(b)), (list((c/255.0).reshape((-1,28,28,1))), list(d))"
      ]
    },
    {
      "cell_type": "markdown",
      "metadata": {
        "id": "5DLxUln_O-TI"
      },
      "source": [
        "# JSON for weight initialization"
      ]
    },
    {
      "cell_type": "code",
      "execution_count": 2,
      "metadata": {
        "id": "8ILd2DmnMjuY"
      },
      "outputs": [],
      "source": [
        "import json\n",
        "import random\n",
        "\n",
        "#conv01\n",
        "with open(\"conv1.json\", \"w\") as write_file:\n",
        "  biases = []\n",
        "  weights = []\n",
        "  for i in range(32):\n",
        "    biases.append(random.randint(0,100)/100)\n",
        "    temp1 = []\n",
        "    for j in range(1):\n",
        "      temp2 = []\n",
        "      for k in range(3):\n",
        "        temp3 = []\n",
        "        for l in range(3):\n",
        "          temp3.append(random.randint(-500,500)/500)\n",
        "        temp2.append(temp3)\n",
        "      temp1.append(temp2)\n",
        "    weights.append(temp1)\n",
        "  data = {\n",
        "      \"biases\":biases,\n",
        "      \"weights\":weights\n",
        "  }\n",
        "  json.dump(data, write_file)\n",
        "\n",
        "#conv02\n",
        "with open(\"conv2.json\", \"w\") as write_file:\n",
        "  biases = []\n",
        "  weights = []\n",
        "  for i in range(64):\n",
        "    biases.append(random.randint(0,100)/100)\n",
        "    temp1 = []\n",
        "    for j in range(32):\n",
        "      temp2 = []\n",
        "      for k in range(3):\n",
        "        temp3 = []\n",
        "        for l in range(3):\n",
        "          temp3.append(random.randint(-500,500)/500)\n",
        "        temp2.append(temp3)\n",
        "      temp1.append(temp2)\n",
        "    weights.append(temp1)\n",
        "  data = {\n",
        "      \"biases\":biases,\n",
        "      \"weights\":weights\n",
        "  }\n",
        "  json.dump(data, write_file)\n",
        "\n",
        "#Dense\n",
        "with open(\"dense.json\", \"w\") as write_file:\n",
        "  biases = []\n",
        "  weights = []\n",
        "  for i in range(64):\n",
        "    biases.append(random.randint(0,100)/100)\n",
        "    temp1 = []\n",
        "    for j in range(9216):\n",
        "      temp1.append(random.randint(-500,500)/500)\n",
        "    weights.append(temp1)\n",
        "  data = {\n",
        "      \"biases\":biases,\n",
        "      \"weights\":weights\n",
        "  }\n",
        "  json.dump(data, write_file)\n",
        "\n",
        "#Softmax\n",
        "with open(\"softmax.json\", \"w\") as write_file:\n",
        "  biases = []\n",
        "  weights = []\n",
        "  for i in range(10):\n",
        "    biases.append(random.randint(0,100)/100)\n",
        "    temp1 = []\n",
        "    for j in range(64):\n",
        "      temp1.append(random.randint(-500,500)/500)\n",
        "    weights.append(temp1)\n",
        "  data = {\n",
        "      \"biases\":biases,\n",
        "      \"weights\":weights\n",
        "  }\n",
        "  json.dump(data, write_file)"
      ]
    },
    {
      "cell_type": "markdown",
      "metadata": {
        "id": "mavlGEJ6KN8X"
      },
      "source": [
        "# Array Allocation"
      ]
    },
    {
      "cell_type": "code",
      "execution_count": 3,
      "metadata": {
        "id": "Bl3xIkHyZ1yn"
      },
      "outputs": [],
      "source": [
        "def array1D(width,zeros=1):\n",
        "    return [float(0.5-(i/width))*zeros for i in range(width)]\n",
        "\n",
        "def array2D(height,width,zeros=1):\n",
        "    return [array1D(width,zeros) for i in range(height)]\n",
        "\n",
        "def array3D(depth,height,width,zeros=1):\n",
        "    return [array2D(height,width,zeros) for i in range(depth)]\n",
        "\n",
        "def array4D(tepth,depth,height,width,zeros=1):\n",
        "    return [array3D(depth,height,width,zeros) for i in range(tepth)]"
      ]
    },
    {
      "cell_type": "markdown",
      "metadata": {
        "id": "P749uOR8KYYT"
      },
      "source": [
        "# Basic Utility Functions"
      ]
    },
    {
      "cell_type": "code",
      "execution_count": 4,
      "metadata": {
        "id": "L5PPhzn3JiMJ"
      },
      "outputs": [],
      "source": [
        "def matrix_multiplication(mat1,mat2):\n",
        "    result = array2D(len(mat1),len(mat2[0]))\n",
        "    for i,x in enumerate(zip(mat1,mat2)):\n",
        "        for j,y in enumerate(zip(x[0],x[1])):\n",
        "            result[i][j] = y[0]*y[1]\n",
        "    return result\n",
        "\n",
        "def matrix_addition(mat1,mat2):\n",
        "    result = []\n",
        "    for i in range(len(mat1)):\n",
        "        result.append(mat1[i]+mat2[i])\n",
        "    return result\n",
        "\n",
        "def matrix_addition2D(mat1,mat2):\n",
        "    result = array2D(len(mat1),len(mat1[0]))\n",
        "    for i in range(len(mat1)):\n",
        "        for j in range(len(mat1[0])):\n",
        "            result[i][j] = mat1[i][j]+mat2[i][j]\n",
        "    return result\n",
        "\n",
        "def matrix_subtraction(mat1,mat2):\n",
        "    result = array2D(len(mat1),len(mat1[0]))\n",
        "    for i in range(len(mat1)):\n",
        "        for j in range(len(mat1[0])):\n",
        "            result[i][j] = mat1[i][j]-mat2[i][j]\n",
        "    return result\n",
        "\n",
        "def matrix_subtraction3D(mat1,mat2):\n",
        "    result = array3D(len(mat1),len(mat1[0]),len(mat1[0][0]))\n",
        "    for i in range(len(mat1)):\n",
        "        for j in range(len(mat1[0])):\n",
        "            for k in range(len(mat1[0][0])):\n",
        "                result[i][j][k] = mat1[i][j][k]-mat2[i][j][k]\n",
        "    return result\n",
        "\n",
        "def summation(mat1):\n",
        "    result = 0\n",
        "    for i in mat1:\n",
        "        for j in i:\n",
        "            result += j\n",
        "    return result\n",
        "\n",
        "def scaler_operation(image, operator, operand):\n",
        "    result = array2D(len(image),len(image[0]))\n",
        "    for i,x in enumerate(image):\n",
        "        for j,y in enumerate(x):\n",
        "            if operator == \"div\":\n",
        "                result[i][j] = y/operand\n",
        "            if operator == \"mul\":\n",
        "                result[i][j] = y*operand\n",
        "            if operator == \"add\":\n",
        "                result[i][j] = y+operand\n",
        "            if operator == \"sub\":\n",
        "                result[i][j] = y-operand\n",
        "            if operator == \"pow\":\n",
        "                result[i][j] = y**operand\n",
        "    return result\n",
        "\n",
        "def scaler_operation3D(image, operator, operand):\n",
        "    result = array3D(len(image),len(image[0]),len(image[0][0]))\n",
        "    for k,z in enumerate(image):\n",
        "        for i,x in enumerate(z):\n",
        "            for j,y in enumerate(x):\n",
        "                if operator == \"div\":\n",
        "                    result[k][i][j] = y/operand\n",
        "                if operator == \"mul\":\n",
        "                    result[k][i][j] = y*operand\n",
        "                if operator == \"add\":\n",
        "                    result[k][i][j] = y+operand\n",
        "                if operator == \"sub\":\n",
        "                    result[k][i][j] = y-operand\n",
        "                if operator == \"pow\":\n",
        "                    result[k][i][j] = y**operand\n",
        "    return result\n",
        "\n",
        "def scaler_operation1D(image, operator, operand):\n",
        "    result = array1D(len(image))\n",
        "    for j,y in enumerate(image):\n",
        "        if operator == \"div\":\n",
        "            result[j] = y/operand\n",
        "        if operator == \"mul\":\n",
        "            result[j] = y*operand\n",
        "        if operator == \"add\":\n",
        "            result[j] = y+operand\n",
        "        if operator == \"sub\":\n",
        "            result[j] = y-operand\n",
        "        if operator == \"pow\":\n",
        "            result[j] = y**operand\n",
        "    return result\n",
        "\n",
        "def flatten(image):\n",
        "    result = []\n",
        "    for i in image:\n",
        "        for j in i:\n",
        "            for k in j:\n",
        "                result.append(k)\n",
        "    return result\n",
        "\n",
        "def matrix_dot(A,B):\n",
        "    result = array2D(len(A),len(B[0]))\n",
        "    for i in range(len(A)):\n",
        "        for j in range(len(B[0])):\n",
        "            for k in range(len(B)):\n",
        "                result[i][j] += A[i][k] * B[k][j]\n",
        "    return result\n",
        "\n",
        "def matrix_exp(image):\n",
        "    result = []\n",
        "    for i in image:\n",
        "        result.append(2.71828183**i)\n",
        "    return result\n",
        "\n",
        "def transpose(mat):\n",
        "    result = array2D(len(mat[0]),len(mat))\n",
        "    for i,x in enumerate(mat):\n",
        "        for j,y in enumerate(x):\n",
        "            result[j][i] = y\n",
        "    return result\n",
        "\n",
        "def reshape_matrix(mat,shape):\n",
        "    h,w,d = shape\n",
        "    result = array3D(h,w,d)\n",
        "    indx = 0\n",
        "    for i in range(h):\n",
        "        for j in range(w):\n",
        "            for k in range(d):\n",
        "                result[i][j][k] = mat[indx]\n",
        "                indx += 1\n",
        "    return result\n",
        "\n",
        "def image_normalization(im):\n",
        "    temp = array2D(len(im),len(im[0]))\n",
        "    for i,x in enumerate(im):\n",
        "        for j,y in enumerate(x):\n",
        "            temp[i][j] = (y/255)-0.5\n",
        "    return temp\n",
        "\n",
        "def amax(im):\n",
        "    result = []\n",
        "    for k in range(len(im[0][0])):\n",
        "        temp = []\n",
        "        for i in range(len(im)):\n",
        "            for j in range(len(im[0])):\n",
        "                temp.append(im[i][j][k])\n",
        "        result.append(max(temp))\n",
        "    return result\n",
        "\n",
        "def argmax(arr):\n",
        "    j,y = 0,arr[0]\n",
        "    for i,x in enumerate(arr):\n",
        "        if x > y:\n",
        "            y = x\n",
        "            j = i\n",
        "    return j\n",
        "\n",
        "def ln(x):\n",
        "    n = 99999999.0\n",
        "    return n * ((x ** (1/n)) - 1)"
      ]
    },
    {
      "cell_type": "markdown",
      "metadata": {
        "id": "TjnRuIdFMGnj"
      },
      "source": [
        "# Convolution Layer"
      ]
    },
    {
      "cell_type": "code",
      "execution_count": 6,
      "metadata": {
        "id": "xaMp3YTPJlYq"
      },
      "outputs": [],
      "source": [
        "class ConvLayer:\n",
        "  def __init__(self,name,number_of_node,input_shape,filter_shape=(3,3)):\n",
        "        self.number_of_node = number_of_node\n",
        "        self.input_shape = input_shape\n",
        "        self.filter_shape = filter_shape\n",
        "        with open(name+\".json\", \"r\") as read_file:\n",
        "          data = json.load(read_file)\n",
        "        self.filters = data[\"weights\"]\n",
        "        self.biases = data[\"biases\"]\n",
        "  def forward(self,input_pattern):\n",
        "    self.last_input_pattern = input_pattern\n",
        "    output_pattern = array2D(self.input_shape[0]-2,self.input_shape[1]-2,zeros=0)\n",
        "    for i in range(1,self.input_shape[0]-1):\n",
        "      for j in range(1,self.input_shape[1]-1):\n",
        "        temp = []\n",
        "        for k in range(self.number_of_node):\n",
        "          sum = 0\n",
        "          for l in range(self.input_shape[2]):\n",
        "            # Convolution and sumation\n",
        "            sum += (input_pattern[i-1][j-1][l]*self.filters[k][l][0][0]+\\\n",
        "                    input_pattern[i-1][j][l]*self.filters[k][l][0][1]+\\\n",
        "                    input_pattern[i-1][j+1][l]*self.filters[k][l][0][2]+\\\n",
        "                    input_pattern[i][j-1][l]*self.filters[k][l][1][0]+\\\n",
        "                    input_pattern[i][j][l]*self.filters[k][l][1][1]+\\\n",
        "                    input_pattern[i][j+1][l]*self.filters[k][l][1][2]+\\\n",
        "                    input_pattern[i+1][j-1][l]*self.filters[k][l][2][0]+\\\n",
        "                    input_pattern[i+1][j][l]*self.filters[k][l][2][1]+\\\n",
        "                    input_pattern[i+1][j+1][l]*self.filters[k][l][2][2])/9.0\n",
        "          sum += self.biases[k] #adding bias\n",
        "          temp.append(self.activation(sum)) #activation\n",
        "        output_pattern[i-1][j-1] = temp\n",
        "    return output_pattern\n",
        "  def activation(self,value):\n",
        "    return 0 if value<0 else value"
      ]
    },
    {
      "cell_type": "markdown",
      "metadata": {
        "id": "IMb7sHiDbqcn"
      },
      "source": [
        "# Pooling Layer"
      ]
    },
    {
      "cell_type": "code",
      "execution_count": 7,
      "metadata": {
        "id": "0YIK19GvbXnb"
      },
      "outputs": [],
      "source": [
        "class MaxPoolingLayer:\n",
        "  def __init__(self, input_shape):\n",
        "    self.input_shape = input_shape\n",
        "    \n",
        "  def forward(self, input_pattern):\n",
        "    self.last_input_pattern = input_pattern\n",
        "    output_pattern = array3D(self.input_shape[0]//2,self.input_shape[1]//2,self.input_shape[2])\n",
        "    for i in range(self.input_shape[0]//2):\n",
        "      for j in range(self.input_shape[1]//2):\n",
        "        temp = []\n",
        "        for k in range(self.input_shape[2]):\n",
        "          temp.append(max(input_pattern[i*2][j*2][k],input_pattern[i*2][(j*2)+1][k],input_pattern[(i*2)+1][j*2][k],input_pattern[(i*2)+1][(j*2)+1][k]))\n",
        "        output_pattern[i][j] = temp\n",
        "    return output_pattern"
      ]
    },
    {
      "cell_type": "markdown",
      "metadata": {
        "id": "i1hwGgTFqsiM"
      },
      "source": [
        "# Dense Layer"
      ]
    },
    {
      "cell_type": "code",
      "execution_count": 14,
      "metadata": {
        "id": "shex5jBpqydb"
      },
      "outputs": [],
      "source": [
        "class DenseLayer:\n",
        "  def __init__(self,name,number_of_node,number_of_input):\n",
        "    self.number_of_node = number_of_node\n",
        "    self.number_of_input = number_of_input\n",
        "    with open(name+\".json\", \"r\") as read_file:\n",
        "          data = json.load(read_file)\n",
        "    self.weights = data[\"weights\"]\n",
        "    self.biases = data[\"biases\"]\n",
        "  \n",
        "  def forward(self,input_pattern):\n",
        "    self.last_input_pattern = input_pattern\n",
        "    output_pattern = []\n",
        "    for i in range(self.number_of_node):\n",
        "      sum = 0\n",
        "      for j in range(self.number_of_input):\n",
        "        sum += input_pattern[j]*self.weights[i][j]\n",
        "      sum += self.biases[i]\n",
        "      output_pattern.append(self.activation(sum))\n",
        "    return output_pattern\n",
        "\n",
        "  def activation(self,value):\n",
        "    return 1/(1+2.71828183**(-1*value))"
      ]
    },
    {
      "cell_type": "markdown",
      "metadata": {
        "id": "a-qW4B92vTpT"
      },
      "source": [
        "# SoftMax Layer"
      ]
    },
    {
      "cell_type": "code",
      "execution_count": 15,
      "metadata": {
        "id": "kEJqTPUFvXwU"
      },
      "outputs": [],
      "source": [
        "class SoftMax:\n",
        "  def __init__(self,name,number_of_node,number_of_input):\n",
        "    self.number_of_node = number_of_node\n",
        "    self.number_of_input = number_of_input\n",
        "    with open(name+\".json\", \"r\") as read_file:\n",
        "          data = json.load(read_file)\n",
        "    self.weights = data[\"weights\"]\n",
        "    self.biases = data[\"biases\"]\n",
        "  \n",
        "  def activation(self,value):\n",
        "    return 1/(1+2.71828183**(-1*value))\n",
        "  \n",
        "  def forward(self,input_pattern):\n",
        "    self.last_input_pattern = input_pattern\n",
        "    output_pattern = []\n",
        "    for i in range(self.number_of_node):\n",
        "      sum = 0\n",
        "      for j in range(self.number_of_input):\n",
        "        sum += input_pattern[j]*self.weights[i][j]\n",
        "      sum += self.biases[i]\n",
        "      output_pattern.append(self.activation(sum))\n",
        "    self.last_output_patter =  output_pattern\n",
        "    return output_pattern\n",
        "\n",
        "  def backword(self,output,learn_rate):\n",
        "    for i, gradient in enumerate(d_l_d_out):\n",
        "      if(gradient == 0):\n",
        "          continue\n",
        "      \n",
        "      #e^totals\n",
        "      t_exp = matrix_exp(self.last_totals)\n",
        "      #Sum of all e^totals\n",
        "      S = sum(t_exp)\n",
        "\n",
        "            #gradients of out[i] against totals\n",
        "            #d_out_d_t = -t_exp[i] * t_exp/ (S**2)\n",
        "      d_out_d_t = scaler_operation1D(scaler_operation1D(t_exp,\"mul\",-t_exp[i]),\"div\",S**2)\n",
        "      d_out_d_t[i] = t_exp[i] * (S-t_exp[i]) /(S**2)\n",
        "\n",
        "      # Gradients of totals against weights/biases/input\n",
        "      d_t_d_w = self.last_input\n",
        "      d_t_d_b = 1\n",
        "      d_t_d_inputs = self.weights\n",
        "      \n",
        "      #Gradients of loss against totals\n",
        "      d_l_d_t =  scaler_operation1D(d_out_d_t,\"mul\",gradient)\n",
        "      #Gradients of loss against weights/biases/input\n",
        "            # print(\"dwt\",transpose([d_t_d_w]))\n",
        "      d_l_d_w = matrix_dot(transpose([d_t_d_w]),[d_l_d_t])\n",
        "      d_l_d_b =  d_l_d_t\n",
        "      d_l_d_inputs = transpose(matrix_dot(d_t_d_inputs , transpose([d_l_d_t])))[0]\n",
        "      \n",
        "      #update weights/biases\n",
        "      self.weights =  matrix_subtraction(self.weights,scaler_operation(d_l_d_w,\"mul\",learn_rate))\n",
        "      self.biases = matrix_subtraction([self.biases],[scaler_operation1D(d_l_d_b,\"mul\",learn_rate)])[0]\n",
        "      return reshape_matrix(d_l_d_inputs,self.last_input_shape)"
      ]
    },
    {
      "cell_type": "markdown",
      "metadata": {
        "id": "xNXzSUz68h-r"
      },
      "source": [
        "# Creating Model"
      ]
    },
    {
      "cell_type": "code",
      "execution_count": 16,
      "metadata": {
        "id": "sHAPtxYM8rgR"
      },
      "outputs": [],
      "source": [
        "conv1 = ConvLayer(\"conv1\",32,(28,28,1))\n",
        "conv2 = ConvLayer(\"conv2\",64,(26,26,32))\n",
        "maxpool2 = MaxPoolingLayer((24,24,64))\n",
        "dense = DenseLayer(\"dense\",64,9216)\n",
        "softmax = SoftMax(\"softmax\",10,64)"
      ]
    },
    {
      "cell_type": "markdown",
      "metadata": {
        "id": "WGu2z5RB91vX"
      },
      "source": [
        "# Forwording"
      ]
    },
    {
      "cell_type": "code",
      "execution_count": 17,
      "metadata": {
        "id": "c-n7j2NNNg59"
      },
      "outputs": [],
      "source": [
        "def forward(input_pattern,output_label):\n",
        "  a = conv1.forward(input_pattern)\n",
        "  b = conv2.forward(a)\n",
        "  c = maxpool2.forward(b)\n",
        "  d = flatten(c)\n",
        "  e = dense.forward(d)\n",
        "  output = softmax.forward(e)\n",
        "  loss = -ln(output[output_label])\n",
        "  acc = 1 if(argmax(output) == output_label) else 0\n",
        "  return output, loss, acc"
      ]
    },
    {
      "cell_type": "markdown",
      "source": [
        "# Backpropagation"
      ],
      "metadata": {
        "id": "InPMwkrPdGuV"
      }
    },
    {
      "cell_type": "code",
      "source": [
        "def backward(output, learn_rate):\n",
        "  out = softmax.backward(output,learn_rate)\n"
      ],
      "metadata": {
        "id": "khjh5aJPdF2S"
      },
      "execution_count": 12,
      "outputs": []
    },
    {
      "cell_type": "markdown",
      "metadata": {
        "id": "_IxX4xeybxiI"
      },
      "source": [
        "# Training"
      ]
    },
    {
      "cell_type": "code",
      "execution_count": 18,
      "metadata": {
        "id": "PIMwvmC0O9a9"
      },
      "outputs": [],
      "source": [
        "def training(x_train, y_train):\n",
        "  for input_pattern,output_label in zip(x_train, y_train):\n",
        "    output, loss, acc = forward(input_pattern,output_label)\n",
        "\n",
        "    # gradient = array1D(10,zeros=0)\n",
        "    # gradient[output_label] = -1/output[output_label]\n",
        "\n",
        "    backward(output, 0.005)\n",
        "    \n",
        "    print(output_label,\"--\",output)"
      ]
    },
    {
      "cell_type": "code",
      "execution_count": 19,
      "metadata": {
        "colab": {
          "base_uri": "https://localhost:8080/",
          "height": 470
        },
        "id": "XWrLxE2lnNMr",
        "outputId": "083b14de-0bd8-4884-d304-c63ac4e2faac"
      },
      "outputs": [
        {
          "output_type": "stream",
          "name": "stdout",
          "text": [
            "5 -- [0.16488384664644276, 0.890913936740866, 0.9749019605163765, 0.9969061124650543, 0.22131555327341118, 0.1176845198190124, 0.9553846355499251, 0.49530564436532265, 0.9580817439973267, 0.01173443621820715]\n",
            "0 -- [0.370606619456687, 0.7703353222823061, 0.9569926948203465, 0.9945342692931912, 0.17067673998030608, 0.1456920570740505, 0.929081493582041, 0.5993725407345029, 0.9769357796405516, 0.008741883567415067]\n",
            "4 -- [0.22893281934158988, 0.8338010165265638, 0.9587255784926922, 0.9945592289101383, 0.1517942703222352, 0.14332962877784292, 0.9348970337684407, 0.5308223550156759, 0.9695784855033457, 0.009790993434108155]\n",
            "1 -- [0.16698858756873575, 0.8693686996953922, 0.9669772596818411, 0.9962749982415846, 0.2089309896575143, 0.11557875263871495, 0.9531752727173062, 0.5443918651990393, 0.9698629544857295, 0.013728104910261786]\n",
            "9 -- [0.18374712623407188, 0.8814210856715529, 0.971221892840399, 0.9966255783298812, 0.2181449807726725, 0.09639311660036559, 0.9543359937142553, 0.544358958019781, 0.9621833654779224, 0.013139436712353203]\n",
            "2 -- [0.17425874784480788, 0.8501771011100765, 0.9779623655826463, 0.994318635822406, 0.17408392207677664, 0.13816710044434574, 0.9700391081901653, 0.4069607324726833, 0.967668817323965, 0.008702791771899051]\n",
            "1 -- [0.15896624358417594, 0.9006041215177525, 0.9739984729665374, 0.9974379843281423, 0.23018985279865856, 0.11373543911043946, 0.9501203577094585, 0.5011937313723605, 0.9554696715004375, 0.012077591772714566]\n"
          ]
        },
        {
          "output_type": "error",
          "ename": "KeyboardInterrupt",
          "evalue": "ignored",
          "traceback": [
            "\u001b[0;31m---------------------------------------------------------------------------\u001b[0m",
            "\u001b[0;31mKeyboardInterrupt\u001b[0m                         Traceback (most recent call last)",
            "\u001b[0;32m<ipython-input-19-a08e25dc624c>\u001b[0m in \u001b[0;36m<module>\u001b[0;34m()\u001b[0m\n\u001b[0;32m----> 1\u001b[0;31m \u001b[0mtraining\u001b[0m\u001b[0;34m(\u001b[0m\u001b[0mx_train\u001b[0m\u001b[0;34m,\u001b[0m \u001b[0my_train\u001b[0m\u001b[0;34m)\u001b[0m\u001b[0;34m\u001b[0m\u001b[0;34m\u001b[0m\u001b[0m\n\u001b[0m",
            "\u001b[0;32m<ipython-input-18-b3833e3873f6>\u001b[0m in \u001b[0;36mtraining\u001b[0;34m(x_train, y_train)\u001b[0m\n\u001b[1;32m      1\u001b[0m \u001b[0;32mdef\u001b[0m \u001b[0mtraining\u001b[0m\u001b[0;34m(\u001b[0m\u001b[0mx_train\u001b[0m\u001b[0;34m,\u001b[0m \u001b[0my_train\u001b[0m\u001b[0;34m)\u001b[0m\u001b[0;34m:\u001b[0m\u001b[0;34m\u001b[0m\u001b[0;34m\u001b[0m\u001b[0m\n\u001b[1;32m      2\u001b[0m   \u001b[0;32mfor\u001b[0m \u001b[0minput_pattern\u001b[0m\u001b[0;34m,\u001b[0m\u001b[0moutput_label\u001b[0m \u001b[0;32min\u001b[0m \u001b[0mzip\u001b[0m\u001b[0;34m(\u001b[0m\u001b[0mx_train\u001b[0m\u001b[0;34m,\u001b[0m \u001b[0my_train\u001b[0m\u001b[0;34m)\u001b[0m\u001b[0;34m:\u001b[0m\u001b[0;34m\u001b[0m\u001b[0;34m\u001b[0m\u001b[0m\n\u001b[0;32m----> 3\u001b[0;31m     \u001b[0moutput\u001b[0m\u001b[0;34m,\u001b[0m \u001b[0mloss\u001b[0m\u001b[0;34m,\u001b[0m \u001b[0macc\u001b[0m \u001b[0;34m=\u001b[0m \u001b[0mforward\u001b[0m\u001b[0;34m(\u001b[0m\u001b[0minput_pattern\u001b[0m\u001b[0;34m,\u001b[0m\u001b[0moutput_label\u001b[0m\u001b[0;34m)\u001b[0m\u001b[0;34m\u001b[0m\u001b[0;34m\u001b[0m\u001b[0m\n\u001b[0m\u001b[1;32m      4\u001b[0m \u001b[0;34m\u001b[0m\u001b[0m\n\u001b[1;32m      5\u001b[0m     \u001b[0;31m# gradient = array1D(10,zeros=0)\u001b[0m\u001b[0;34m\u001b[0m\u001b[0;34m\u001b[0m\u001b[0;34m\u001b[0m\u001b[0m\n",
            "\u001b[0;32m<ipython-input-17-4371a8b7e646>\u001b[0m in \u001b[0;36mforward\u001b[0;34m(input_pattern, output_label)\u001b[0m\n\u001b[1;32m      1\u001b[0m \u001b[0;32mdef\u001b[0m \u001b[0mforward\u001b[0m\u001b[0;34m(\u001b[0m\u001b[0minput_pattern\u001b[0m\u001b[0;34m,\u001b[0m\u001b[0moutput_label\u001b[0m\u001b[0;34m)\u001b[0m\u001b[0;34m:\u001b[0m\u001b[0;34m\u001b[0m\u001b[0;34m\u001b[0m\u001b[0m\n\u001b[1;32m      2\u001b[0m   \u001b[0ma\u001b[0m \u001b[0;34m=\u001b[0m \u001b[0mconv1\u001b[0m\u001b[0;34m.\u001b[0m\u001b[0mforward\u001b[0m\u001b[0;34m(\u001b[0m\u001b[0minput_pattern\u001b[0m\u001b[0;34m)\u001b[0m\u001b[0;34m\u001b[0m\u001b[0;34m\u001b[0m\u001b[0m\n\u001b[0;32m----> 3\u001b[0;31m   \u001b[0mb\u001b[0m \u001b[0;34m=\u001b[0m \u001b[0mconv2\u001b[0m\u001b[0;34m.\u001b[0m\u001b[0mforward\u001b[0m\u001b[0;34m(\u001b[0m\u001b[0ma\u001b[0m\u001b[0;34m)\u001b[0m\u001b[0;34m\u001b[0m\u001b[0;34m\u001b[0m\u001b[0m\n\u001b[0m\u001b[1;32m      4\u001b[0m   \u001b[0mc\u001b[0m \u001b[0;34m=\u001b[0m \u001b[0mmaxpool2\u001b[0m\u001b[0;34m.\u001b[0m\u001b[0mforward\u001b[0m\u001b[0;34m(\u001b[0m\u001b[0mb\u001b[0m\u001b[0;34m)\u001b[0m\u001b[0;34m\u001b[0m\u001b[0;34m\u001b[0m\u001b[0m\n\u001b[1;32m      5\u001b[0m   \u001b[0md\u001b[0m \u001b[0;34m=\u001b[0m \u001b[0mflatten\u001b[0m\u001b[0;34m(\u001b[0m\u001b[0mc\u001b[0m\u001b[0;34m)\u001b[0m\u001b[0;34m\u001b[0m\u001b[0;34m\u001b[0m\u001b[0m\n",
            "\u001b[0;32m<ipython-input-6-cae9a7c8bc26>\u001b[0m in \u001b[0;36mforward\u001b[0;34m(self, input_pattern)\u001b[0m\n\u001b[1;32m     18\u001b[0m           \u001b[0;32mfor\u001b[0m \u001b[0ml\u001b[0m \u001b[0;32min\u001b[0m \u001b[0mrange\u001b[0m\u001b[0;34m(\u001b[0m\u001b[0mself\u001b[0m\u001b[0;34m.\u001b[0m\u001b[0minput_shape\u001b[0m\u001b[0;34m[\u001b[0m\u001b[0;36m2\u001b[0m\u001b[0;34m]\u001b[0m\u001b[0;34m)\u001b[0m\u001b[0;34m:\u001b[0m\u001b[0;34m\u001b[0m\u001b[0;34m\u001b[0m\u001b[0m\n\u001b[1;32m     19\u001b[0m             \u001b[0;31m# Convolution and sumation\u001b[0m\u001b[0;34m\u001b[0m\u001b[0;34m\u001b[0m\u001b[0;34m\u001b[0m\u001b[0m\n\u001b[0;32m---> 20\u001b[0;31m             \u001b[0msum\u001b[0m \u001b[0;34m+=\u001b[0m \u001b[0;34m(\u001b[0m\u001b[0minput_pattern\u001b[0m\u001b[0;34m[\u001b[0m\u001b[0mi\u001b[0m\u001b[0;34m-\u001b[0m\u001b[0;36m1\u001b[0m\u001b[0;34m]\u001b[0m\u001b[0;34m[\u001b[0m\u001b[0mj\u001b[0m\u001b[0;34m-\u001b[0m\u001b[0;36m1\u001b[0m\u001b[0;34m]\u001b[0m\u001b[0;34m[\u001b[0m\u001b[0ml\u001b[0m\u001b[0;34m]\u001b[0m\u001b[0;34m*\u001b[0m\u001b[0mself\u001b[0m\u001b[0;34m.\u001b[0m\u001b[0mfilters\u001b[0m\u001b[0;34m[\u001b[0m\u001b[0mk\u001b[0m\u001b[0;34m]\u001b[0m\u001b[0;34m[\u001b[0m\u001b[0ml\u001b[0m\u001b[0;34m]\u001b[0m\u001b[0;34m[\u001b[0m\u001b[0;36m0\u001b[0m\u001b[0;34m]\u001b[0m\u001b[0;34m[\u001b[0m\u001b[0;36m0\u001b[0m\u001b[0;34m]\u001b[0m\u001b[0;34m+\u001b[0m                    \u001b[0minput_pattern\u001b[0m\u001b[0;34m[\u001b[0m\u001b[0mi\u001b[0m\u001b[0;34m-\u001b[0m\u001b[0;36m1\u001b[0m\u001b[0;34m]\u001b[0m\u001b[0;34m[\u001b[0m\u001b[0mj\u001b[0m\u001b[0;34m]\u001b[0m\u001b[0;34m[\u001b[0m\u001b[0ml\u001b[0m\u001b[0;34m]\u001b[0m\u001b[0;34m*\u001b[0m\u001b[0mself\u001b[0m\u001b[0;34m.\u001b[0m\u001b[0mfilters\u001b[0m\u001b[0;34m[\u001b[0m\u001b[0mk\u001b[0m\u001b[0;34m]\u001b[0m\u001b[0;34m[\u001b[0m\u001b[0ml\u001b[0m\u001b[0;34m]\u001b[0m\u001b[0;34m[\u001b[0m\u001b[0;36m0\u001b[0m\u001b[0;34m]\u001b[0m\u001b[0;34m[\u001b[0m\u001b[0;36m1\u001b[0m\u001b[0;34m]\u001b[0m\u001b[0;34m+\u001b[0m                    \u001b[0minput_pattern\u001b[0m\u001b[0;34m[\u001b[0m\u001b[0mi\u001b[0m\u001b[0;34m-\u001b[0m\u001b[0;36m1\u001b[0m\u001b[0;34m]\u001b[0m\u001b[0;34m[\u001b[0m\u001b[0mj\u001b[0m\u001b[0;34m+\u001b[0m\u001b[0;36m1\u001b[0m\u001b[0;34m]\u001b[0m\u001b[0;34m[\u001b[0m\u001b[0ml\u001b[0m\u001b[0;34m]\u001b[0m\u001b[0;34m*\u001b[0m\u001b[0mself\u001b[0m\u001b[0;34m.\u001b[0m\u001b[0mfilters\u001b[0m\u001b[0;34m[\u001b[0m\u001b[0mk\u001b[0m\u001b[0;34m]\u001b[0m\u001b[0;34m[\u001b[0m\u001b[0ml\u001b[0m\u001b[0;34m]\u001b[0m\u001b[0;34m[\u001b[0m\u001b[0;36m0\u001b[0m\u001b[0;34m]\u001b[0m\u001b[0;34m[\u001b[0m\u001b[0;36m2\u001b[0m\u001b[0;34m]\u001b[0m\u001b[0;34m+\u001b[0m                    \u001b[0minput_pattern\u001b[0m\u001b[0;34m[\u001b[0m\u001b[0mi\u001b[0m\u001b[0;34m]\u001b[0m\u001b[0;34m[\u001b[0m\u001b[0mj\u001b[0m\u001b[0;34m-\u001b[0m\u001b[0;36m1\u001b[0m\u001b[0;34m]\u001b[0m\u001b[0;34m[\u001b[0m\u001b[0ml\u001b[0m\u001b[0;34m]\u001b[0m\u001b[0;34m*\u001b[0m\u001b[0mself\u001b[0m\u001b[0;34m.\u001b[0m\u001b[0mfilters\u001b[0m\u001b[0;34m[\u001b[0m\u001b[0mk\u001b[0m\u001b[0;34m]\u001b[0m\u001b[0;34m[\u001b[0m\u001b[0ml\u001b[0m\u001b[0;34m]\u001b[0m\u001b[0;34m[\u001b[0m\u001b[0;36m1\u001b...\n\u001b[0m\u001b[1;32m     21\u001b[0m           \u001b[0msum\u001b[0m \u001b[0;34m+=\u001b[0m \u001b[0mself\u001b[0m\u001b[0;34m.\u001b[0m\u001b[0mbiases\u001b[0m\u001b[0;34m[\u001b[0m\u001b[0mk\u001b[0m\u001b[0;34m]\u001b[0m \u001b[0;31m#adding bias\u001b[0m\u001b[0;34m\u001b[0m\u001b[0;34m\u001b[0m\u001b[0m\n\u001b[1;32m     22\u001b[0m           \u001b[0mtemp\u001b[0m\u001b[0;34m.\u001b[0m\u001b[0mappend\u001b[0m\u001b[0;34m(\u001b[0m\u001b[0mself\u001b[0m\u001b[0;34m.\u001b[0m\u001b[0mactivation\u001b[0m\u001b[0;34m(\u001b[0m\u001b[0msum\u001b[0m\u001b[0;34m)\u001b[0m\u001b[0;34m)\u001b[0m \u001b[0;31m#activation\u001b[0m\u001b[0;34m\u001b[0m\u001b[0;34m\u001b[0m\u001b[0m\n",
            "\u001b[0;31mKeyboardInterrupt\u001b[0m: "
          ]
        }
      ],
      "source": [
        "training(x_train, y_train)"
      ]
    }
  ],
  "metadata": {
    "colab": {
      "collapsed_sections": [
        "8Tj26ILVKBqa",
        "5DLxUln_O-TI",
        "mavlGEJ6KN8X",
        "P749uOR8KYYT",
        "TjnRuIdFMGnj",
        "IMb7sHiDbqcn",
        "i1hwGgTFqsiM",
        "a-qW4B92vTpT",
        "xNXzSUz68h-r",
        "WGu2z5RB91vX"
      ],
      "name": "CNN-python.ipynb",
      "provenance": [],
      "authorship_tag": "ABX9TyMFHz/mSOx2uT/YdjeMN3zZ",
      "include_colab_link": true
    },
    "kernelspec": {
      "display_name": "Python 3",
      "name": "python3"
    },
    "language_info": {
      "name": "python"
    }
  },
  "nbformat": 4,
  "nbformat_minor": 0
}